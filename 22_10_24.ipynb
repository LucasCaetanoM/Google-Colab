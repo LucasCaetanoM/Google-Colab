{
  "nbformat": 4,
  "nbformat_minor": 0,
  "metadata": {
    "colab": {
      "provenance": [],
      "authorship_tag": "ABX9TyNldcSOu6CsU9Ay+vFV2X3L",
      "include_colab_link": true
    },
    "kernelspec": {
      "name": "python3",
      "display_name": "Python 3"
    },
    "language_info": {
      "name": "python"
    }
  },
  "cells": [
    {
      "cell_type": "markdown",
      "metadata": {
        "id": "view-in-github",
        "colab_type": "text"
      },
      "source": [
        "<a href=\"https://colab.research.google.com/github/LucasCaetanoM/Google-Colab/blob/main/22_10_24.ipynb\" target=\"_parent\"><img src=\"https://colab.research.google.com/assets/colab-badge.svg\" alt=\"Open In Colab\"/></a>"
      ]
    },
    {
      "cell_type": "code",
      "execution_count": null,
      "metadata": {
        "id": "bV3sBF8MDQjC"
      },
      "outputs": [],
      "source": [
        "def contar_carateres(string):\n",
        "  return len(string)\n",
        "\n",
        "def contar_vogais(string):\n",
        "  vogais = \"aeiouAEIOU\"\n",
        "  return sum(1 for char in string if char in vogais)\n",
        "\n",
        "def verificar_inicio_com_a(string):\n",
        "  return string.strip()[0].lower() == \"a\"\n",
        "\n",
        "def main():\n",
        "  string = input(\"Digite uma string: \")\n",
        "\n",
        "  print(f\"Número de caracteres: {contar_carateres(string)}\")\n",
        "  print(f\"String em maiúsculo: {string.upper()}\")\n",
        "  print(f\"Número de vogais: {contar_vogais(string)})\")\n",
        "  print(f\"Inicia com a letra 'a': {verificar_inicio_com_a(string)}\")\n",
        "\n",
        "if __name__ == \"__main__\":\n",
        "  main()"
      ]
    },
    {
      "cell_type": "code",
      "source": [
        "def contar_caractere(string, caractere):\n",
        "  return string.count(caractere)\n",
        "\n",
        "def main():\n",
        "  string = input(\"Digite uma string: \")\n",
        "  caractere = input(\"Digite um caractere: \")\n",
        "\n",
        "  resultado = contar_caractere(string, caractere)\n",
        "  print(f\"O caractere '{caractere}' aparece {resultado} vezes na string.\")\n",
        "\n",
        "if __name__ == \"__main__\":\n",
        "  main()\n",
        ""
      ],
      "metadata": {
        "id": "1CQxY5v9IsFP"
      },
      "execution_count": null,
      "outputs": []
    },
    {
      "cell_type": "code",
      "source": [
        "def verificar_vogal(nome):\n",
        "  vogais = \"aeiouAEIOU\"\n",
        "  return nome.strip()[0] in vogais\n",
        "\n",
        "def main():\n",
        "  nome = input(\"Digite um nome: \")\n",
        "\n",
        "  if verificar_vogal(nome):\n",
        "    print(f\"{nome} começa com uma vogal.\")\n",
        "  else:\n",
        "    print(f\"{nome} não começa com uma vogal.\")\n",
        "\n",
        "if __name__ == \"__main__\":\n",
        "   main()"
      ],
      "metadata": {
        "id": "HsoUsIhzJ9hn"
      },
      "execution_count": null,
      "outputs": []
    },
    {
      "cell_type": "code",
      "source": [
        "def verificar_string_contida(string1, string2):\n",
        "    return string2 in string1\n",
        "\n",
        "def main():\n",
        "    string1 = input(\"Digite a primeira string: \")\n",
        "    string2 = input(\"Digite a segunda string: \")\n",
        "\n",
        "    resultado = verificar_string_contida(string1, string2)\n",
        "\n",
        "    if resultado:\n",
        "        print(f\"A segunda string está contida na primeira.\")\n",
        "    else:\n",
        "        print(f\"A segunda string não está contida na primeira.\")\n",
        "\n",
        "if __name__ == \"__main__\":\n",
        "    main()\n",
        "\n"
      ],
      "metadata": {
        "id": "wtdqzwF_N7QV"
      },
      "execution_count": null,
      "outputs": []
    },
    {
      "cell_type": "code",
      "source": [
        "def contar_ocorrencias(cadeia_A, cadeia_B):\n",
        "  return cadeia_B.count(cadeia_A)\n",
        "\n",
        "def main():\n",
        "  cadeia_A = input(\"Digite a primeira cadeia de caracteres: \")\n",
        "  cadeia_B = input(\"Digite a segunda cadeia de caracteres: \")\n",
        "\n",
        "  ocorrencias = contar_ocorrencias(cadeia_A, cadeia_B)\n",
        "  print(f\"A cadeia '{cadeia_A}' aparece {ocorrencias} vezes na cadeia '{cadeia_B}'.\")\n",
        "\n",
        "if __name__ == \"__main__\":\n",
        "  main()"
      ],
      "metadata": {
        "id": "R4s8nC-gSUVU"
      },
      "execution_count": null,
      "outputs": []
    },
    {
      "cell_type": "code",
      "source": [
        "from datetime import datetime\n",
        "\n",
        "def ler_data():\n",
        "  data_str = input(\"Digite uma data no formato dd/mm/aaaa: \")\n",
        "\n",
        "  try:\n",
        "    data = datetime.strptime(data_str, \"%d/%m/%Y\")\n",
        "\n",
        "    dia = data.day\n",
        "    mes = data.month\n",
        "    ano = data.year\n",
        "\n",
        "    print(f\"Dia: {dia}\")\n",
        "    print(f\"Mês: {mes}\")\n",
        "    print(f\"Ano: {ano}\")\n",
        "\n",
        "  except ValueError:\n",
        "    print(\"Formato de data inválido. Use o formato dd/mm/aaaa.\")\n",
        "\n",
        "if __name__ == \"__main__\":\n",
        "  ler_data"
      ],
      "metadata": {
        "id": "fsib7JalU4k0"
      },
      "execution_count": 39,
      "outputs": []
    },
    {
      "cell_type": "code",
      "source": [
        "def encontrar_caractere_repetidos(string):\n",
        "  caracteres_repetidos = []\n",
        "  for char in string:\n",
        "    if char in caracteres_repetidos:\n",
        "      caracteres_repetidos[char] += 1\n",
        "    else:\n",
        "      caracteres_repetidos[char] = 1\n",
        "  return {char: freq for char,freq in caracteres_repetidos.items() if freq > 1}\n",
        "\n",
        "  def main():\n",
        "    string = input(\"Digite uma string: \")\n",
        "    caracteres_repetidos = encontrar_caractere_repetidos(string.lower())\n",
        "\n",
        "    if caracteres_repetidos:\n",
        "      print(\"Caracteres repetidos e suas frequências:\")\n",
        "      for char, freq in caracteres_repetidos.items():\n",
        "        print(f\"{char}: {freq}\")\n",
        "    else:\n",
        "      print(\"Não há caracteres repetidos na string.\")\n",
        "\n",
        "    if __name__ == \"__main__\":\n",
        "      main()\n"
      ],
      "metadata": {
        "id": "lP23aDjIWNwq"
      },
      "execution_count": 42,
      "outputs": []
    }
  ]
}